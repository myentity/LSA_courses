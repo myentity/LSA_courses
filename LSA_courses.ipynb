{
 "cells": [
  {
   "cell_type": "code",
   "execution_count": 13,
   "metadata": {
    "collapsed": true
   },
   "outputs": [],
   "source": [
    "import pandas as pd\n",
    "from pandas import read_csv, DataFrame"
   ]
  },
  {
   "cell_type": "code",
   "execution_count": 14,
   "metadata": {
    "collapsed": false
   },
   "outputs": [
    {
     "name": "stdout",
     "output_type": "stream",
     "text": [
      "              id\n",
      "count  48.000000\n",
      "mean   36.750000\n",
      "std    22.464629\n",
      "min     1.000000\n",
      "25%    17.750000\n",
      "50%    38.500000\n",
      "75%    57.500000\n",
      "max    72.000000\n"
     ]
    }
   ],
   "source": [
    "st=''\n",
    "s = pd.read_excel('answ_1_1.xlsx')\n",
    "print(s.describe())"
   ]
  },
  {
   "cell_type": "code",
   "execution_count": 15,
   "metadata": {
    "collapsed": false
   },
   "outputs": [
    {
     "name": "stdout",
     "output_type": "stream",
     "text": [
      "48\n"
     ]
    }
   ],
   "source": [
    "text = []\n",
    "for i, row in s.iterrows():\n",
    "    if (isinstance(row['answer'], str)):\n",
    "        st = row['answer']\n",
    "    else:\n",
    "        st = str(row['answer'])\n",
    "    text.append(st)\n",
    "print(len(text))"
   ]
  },
  {
   "cell_type": "code",
   "execution_count": 16,
   "metadata": {
    "collapsed": false
   },
   "outputs": [],
   "source": [
    "ignorechars = '''(){},.\"\":;-*<>'?\\!'''\n",
    "stopwords = ['n','тк','чтоб','какуюлиб','точт','мне','да','нет','всех','5','я','кем','ч','м','др','2014','4','6','8','3',\n",
    "             '2','1','тут','тех','нас','нам','тог','когд','такж','межд','е','ты','теб','чьи','чег','всем','всю','тож','им',\n",
    "             'над','себ','либ','инач','без','их','вам','чем','есл','ещ','ег','изз','тем','там','уж','вместе','сам','уже',\n",
    "             'ей','тд','где','как','он','мы','так','в','на','о','об','не','но','по','а','и','все','это','при','с','S','было',\n",
    "             'быть','был','много','однако','те','нами','теми','то','есть','ему','его','сих','пор','же','во','под','если',\n",
    "             'ли','у','.','та','со','за','ту','них','к','для','того','чтобы','бы','из','до','или','ни','эт','котор','что',\n",
    "             'ил', 'эссе']\n",
    "exec(open('LSI.py', encoding=\"utf8\").read())"
   ]
  },
  {
   "cell_type": "code",
   "execution_count": 17,
   "metadata": {
    "collapsed": true
   },
   "outputs": [],
   "source": [
    "lsa = LSI(stopwords, ignorechars, text)\n",
    "lsa.build()"
   ]
  },
  {
   "cell_type": "code",
   "execution_count": 18,
   "metadata": {
    "collapsed": true
   },
   "outputs": [],
   "source": [
    "lsa.calc()"
   ]
  },
  {
   "cell_type": "code",
   "execution_count": 19,
   "metadata": {
    "collapsed": true
   },
   "outputs": [],
   "source": [
    "lsa.print_svd()"
   ]
  },
  {
   "cell_type": "code",
   "execution_count": 20,
   "metadata": {
    "collapsed": false
   },
   "outputs": [
    {
     "name": "stdout",
     "output_type": "stream",
     "text": [
      "содержанием\n"
     ]
    },
    {
     "data": {
      "text/html": [
       "<div>\n",
       "<table border=\"1\" class=\"dataframe\">\n",
       "  <thead>\n",
       "    <tr style=\"text-align: right;\">\n",
       "      <th></th>\n",
       "      <th>0</th>\n",
       "      <th>1</th>\n",
       "    </tr>\n",
       "  </thead>\n",
       "  <tbody>\n",
       "    <tr>\n",
       "      <th>0</th>\n",
       "      <td>0.004563</td>\n",
       "      <td>-0.007115</td>\n",
       "    </tr>\n",
       "    <tr>\n",
       "      <th>1</th>\n",
       "      <td>0.018350</td>\n",
       "      <td>-0.041760</td>\n",
       "    </tr>\n",
       "    <tr>\n",
       "      <th>2</th>\n",
       "      <td>0.024185</td>\n",
       "      <td>0.012326</td>\n",
       "    </tr>\n",
       "    <tr>\n",
       "      <th>3</th>\n",
       "      <td>-0.011501</td>\n",
       "      <td>-0.180435</td>\n",
       "    </tr>\n",
       "    <tr>\n",
       "      <th>4</th>\n",
       "      <td>0.085015</td>\n",
       "      <td>-0.134359</td>\n",
       "    </tr>\n",
       "  </tbody>\n",
       "</table>\n",
       "</div>"
      ],
      "text/plain": [
       "          0         1\n",
       "0  0.004563 -0.007115\n",
       "1  0.018350 -0.041760\n",
       "2  0.024185  0.012326\n",
       "3 -0.011501 -0.180435\n",
       "4  0.085015 -0.134359"
      ]
     },
     "execution_count": 20,
     "metadata": {},
     "output_type": "execute_result"
    }
   ],
   "source": [
    "df = pd.DataFrame(-1*lsa.U[:,1:3])\n",
    "print (lsa.fulldictionary[i])\n",
    "df[:5]"
   ]
  },
  {
   "cell_type": "code",
   "execution_count": 21,
   "metadata": {
    "collapsed": false
   },
   "outputs": [
    {
     "data": {
      "text/html": [
       "<div>\n",
       "<table border=\"1\" class=\"dataframe\">\n",
       "  <thead>\n",
       "    <tr style=\"text-align: right;\">\n",
       "      <th></th>\n",
       "      <th>x</th>\n",
       "      <th>y</th>\n",
       "      <th>dots</th>\n",
       "    </tr>\n",
       "  </thead>\n",
       "  <tbody>\n",
       "    <tr>\n",
       "      <th>0</th>\n",
       "      <td>0.004563</td>\n",
       "      <td>-0.007115</td>\n",
       "      <td>эссе</td>\n",
       "    </tr>\n",
       "    <tr>\n",
       "      <th>1</th>\n",
       "      <td>0.018350</td>\n",
       "      <td>-0.041760</td>\n",
       "      <td>модернизация</td>\n",
       "    </tr>\n",
       "    <tr>\n",
       "      <th>2</th>\n",
       "      <td>0.024185</td>\n",
       "      <td>0.012326</td>\n",
       "      <td>системы</td>\n",
       "    </tr>\n",
       "    <tr>\n",
       "      <th>3</th>\n",
       "      <td>-0.011501</td>\n",
       "      <td>-0.180435</td>\n",
       "      <td>педагогического</td>\n",
       "    </tr>\n",
       "    <tr>\n",
       "      <th>4</th>\n",
       "      <td>0.085015</td>\n",
       "      <td>-0.134359</td>\n",
       "      <td>образования</td>\n",
       "    </tr>\n",
       "  </tbody>\n",
       "</table>\n",
       "</div>"
      ],
      "text/plain": [
       "          x         y             dots\n",
       "0  0.004563 -0.007115             эссе\n",
       "1  0.018350 -0.041760     модернизация\n",
       "2  0.024185  0.012326          системы\n",
       "3 -0.011501 -0.180435  педагогического\n",
       "4  0.085015 -0.134359      образования"
      ]
     },
     "execution_count": 21,
     "metadata": {},
     "output_type": "execute_result"
    }
   ],
   "source": [
    "df = pd.DataFrame(-1*lsa.U[:,1:3])\n",
    "#попробовать взять 0:2\n",
    "df = df.rename(columns={0:'x', 1:'y'})\n",
    "df.insert(2,'dots', [lsa.fulldictionary[i] for i in lsa.keys])\n",
    "df[:5]"
   ]
  },
  {
   "cell_type": "code",
   "execution_count": 23,
   "metadata": {
    "collapsed": false
   },
   "outputs": [
    {
     "name": "stdout",
     "output_type": "stream",
     "text": [
      "           x         y  id                               fio\n",
      "0   0.066514 -0.183666   1            Алиева Сацита Адамовна\n",
      "1   0.019972 -0.043371   2    Андраник Грантович Сулейманян\n",
      "2   0.008865 -0.001652   3        Андрианов Юрий Васильевич\n",
      "3  -0.007669  0.212767   4        Анисимова Татьяна Ивановна\n",
      "4   0.059128 -0.096571   5         Анна Витальевна Невзорова\n",
      "5  -0.074927  0.513734   6              Анна Федоровна Шмидт\n",
      "6   0.078305 -0.104160   7        Асафова Елена Владимировна\n",
      "7   0.053462 -0.252769   9        Белозерова Лилия Алмазовна\n",
      "8   0.095140 -0.210910  13         Бывшева Марина Валерьевна\n",
      "9   0.003932  0.097545  14       Важнова Светлана Алексеевна\n",
      "10  0.126255  0.055321  16      Васильева Надежда Николаевна\n",
      "11  0.059521  0.069792  17        Васягина Наталия Николевна\n",
      "12  0.008855  0.288851  18      Вахрушева Людмила Николаевна\n",
      "13  0.007767  0.034639  19     Воронина Людмила Валентиновна\n",
      "14  0.006024  0.085498  21       Галямова Эльмира Махмудовна\n",
      "15  0.051440 -0.013420  22       Ганиева Гульчачак Рафисовна\n",
      "16 -0.461903 -0.031392  23        Глухова Галина Анатольевна\n",
      "17 -0.002525 -0.008681  24           Гришина Ольга Сергеевна\n",
      "18  0.115036 -0.007168  27     Дмитриева Людмила Геннадьевна\n",
      "19 -0.078136  0.098672  29       Жукова Наталья Вячеславовна\n",
      "20  0.017364  0.043540  30        Зайцев Сергей Викторович\n",
      "21  0.029968  0.120510  32          Зверева Ольга Леонидовна\n",
      "22  0.027104 -0.034897  37         Коротких Ольга Валерьевна\n",
      "23 -0.147536 -0.089522  38        Котов Сергей Владимирович\n",
      "24  0.010874 -0.083986  39    Леонтьева Наталия Владимировна\n",
      "25  0.282602  0.111088  40        Лисина Валерия Рудольфовна\n",
      "26 -0.010584 -0.006328  41      Литвина Анастасия Леонидовна\n",
      "27 -0.033558  0.109348  42          Лыткина Аксана Виликовна\n",
      "28  0.088131 -0.066027  43        Медведева Ирина Николаевна\n",
      "29  0.194670 -0.119046  44  Меркулова Татьяна Константиновна\n",
      "30  0.068829 -0.109671  45      Мешкова Наталья Владимировна\n",
      "31  0.031913  0.116502  49       Неясова Ирина Александровна\n",
      "32 -0.003931 -0.007020  50      Никандрова Татьяна Сергеевна\n",
      "33  0.091860  0.112513  55           Пестерева Елена Юрьевна\n",
      "34  0.120898  0.074897  56            Петрова Дина Борисовна\n",
      "35  0.055015 -0.096443  57        Поздеева Оксана Георгиевна\n",
      "36  0.113173 -0.226087  59           Рашкован Ефим Абрамович\n",
      "37  0.027766 -0.053441  60        Рожина Светлана Валерьевна\n",
      "38 -0.004819 -0.058527  61     Сабурова Александра Андреевна\n",
      "39  0.170090 -0.304854  62        Сахиева Регина Геннадьевна\n",
      "40  0.002074  0.117866  63       Силакова Марина Михайловна\n",
      "41  0.478909  0.157397  65  Содномдоржиева Эржена Аркадьевна\n",
      "42 -0.002598  0.082037  66          Соловьева Ирина Олеговна\n",
      "43 -0.461903 -0.031392  68         Стрелкова Ольга Борисовна\n",
      "44  0.026425  0.034318  69       Фатыхов Миннехан Абузарович\n",
      "45 -0.209120 -0.208183  70        Фролова Наталья Викторовна\n",
      "46  0.027381 -0.001415  71        Хузеева Гузелия Рифкатовна\n",
      "47  0.000203  0.190244  72            Черная Анна Викторовна\n"
     ]
    }
   ],
   "source": [
    "doc_coord = pd.DataFrame(-1*lsa.Vt[1:3, :])\n",
    "doc_coord = doc_coord.transpose()\n",
    "doc_coord = doc_coord.rename(columns={0:'x', 1:'y'})\n",
    "#doc_coord.insert(2,'dots', [i for i in numpy.arange(1,len(text)+1)])\n",
    "est = []\n",
    "est1 = []\n",
    "est2 = []\n",
    "est3 = []\n",
    "alpha = []\n",
    "for i,row in s.iterrows():\n",
    "    est.append(row['id'])\n",
    "    est1.append(row['fio'])\n",
    "doc_coord.insert(2,'id', est)\n",
    "doc_coord.insert(3,'fio', est1)\n",
    "print(doc_coord)"
   ]
  },
  {
   "cell_type": "code",
   "execution_count": 25,
   "metadata": {
    "collapsed": false
   },
   "outputs": [
    {
     "ename": "AttributeError",
     "evalue": "'DataFrame' object has no attribute 'fio'",
     "output_type": "error",
     "traceback": [
      "\u001b[0;31m---------------------------------------------------------------------------\u001b[0m",
      "\u001b[0;31mAttributeError\u001b[0m                            Traceback (most recent call last)",
      "\u001b[0;32m<ipython-input-25-a98ec0dac547>\u001b[0m in \u001b[0;36m<module>\u001b[0;34m()\u001b[0m\n\u001b[0;32m----> 1\u001b[0;31m \u001b[0msource\u001b[0m \u001b[0;34m=\u001b[0m \u001b[0mColumnDataSource\u001b[0m\u001b[0;34m(\u001b[0m\u001b[0mdata\u001b[0m\u001b[0;34m=\u001b[0m\u001b[0mdict\u001b[0m\u001b[0;34m(\u001b[0m\u001b[0mx\u001b[0m\u001b[0;34m=\u001b[0m\u001b[0mdf\u001b[0m\u001b[0;34m.\u001b[0m\u001b[0mx\u001b[0m\u001b[0;34m,\u001b[0m \u001b[0my\u001b[0m\u001b[0;34m=\u001b[0m\u001b[0mdf\u001b[0m\u001b[0;34m.\u001b[0m\u001b[0my\u001b[0m\u001b[0;34m,\u001b[0m \u001b[0mdots\u001b[0m\u001b[0;34m=\u001b[0m\u001b[0mdf\u001b[0m\u001b[0;34m.\u001b[0m\u001b[0mfio\u001b[0m\u001b[0;34m)\u001b[0m\u001b[0;34m)\u001b[0m\u001b[0;34m\u001b[0m\u001b[0m\n\u001b[0m\u001b[1;32m      2\u001b[0m \u001b[0msource2\u001b[0m \u001b[0;34m=\u001b[0m \u001b[0mColumnDataSource\u001b[0m\u001b[0;34m(\u001b[0m\u001b[0mdata\u001b[0m\u001b[0;34m=\u001b[0m\u001b[0mdict\u001b[0m\u001b[0;34m(\u001b[0m\u001b[0mx\u001b[0m\u001b[0;34m=\u001b[0m\u001b[0mdoc_coord\u001b[0m\u001b[0;34m.\u001b[0m\u001b[0mx\u001b[0m\u001b[0;34m,\u001b[0m \u001b[0my\u001b[0m\u001b[0;34m=\u001b[0m\u001b[0mdoc_coord\u001b[0m\u001b[0;34m.\u001b[0m\u001b[0my\u001b[0m\u001b[0;34m,\u001b[0m \u001b[0mestimate\u001b[0m\u001b[0;34m=\u001b[0m\u001b[0mdoc_coord\u001b[0m\u001b[0;34m.\u001b[0m\u001b[0mestimate\u001b[0m\u001b[0;34m,\u001b[0m \u001b[0mestimate1\u001b[0m\u001b[0;34m=\u001b[0m\u001b[0mdoc_coord\u001b[0m\u001b[0;34m.\u001b[0m\u001b[0mestimate1\u001b[0m\u001b[0;34m)\u001b[0m\u001b[0;34m)\u001b[0m\u001b[0;34m\u001b[0m\u001b[0m\n\u001b[1;32m      3\u001b[0m \u001b[0;34m\u001b[0m\u001b[0m\n\u001b[1;32m      4\u001b[0m hover = HoverTool(tooltips=[\n\u001b[1;32m      5\u001b[0m     \u001b[0;34m(\u001b[0m\u001b[0;34m\"x\"\u001b[0m\u001b[0;34m,\u001b[0m\u001b[0;34m\"@x\"\u001b[0m\u001b[0;34m)\u001b[0m\u001b[0;34m,\u001b[0m\u001b[0;34m\u001b[0m\u001b[0m\n",
      "\u001b[0;32m/Users/anastasiapanfilova/py3_kernel/lib/python3.5/site-packages/pandas/core/generic.py\u001b[0m in \u001b[0;36m__getattr__\u001b[0;34m(self, name)\u001b[0m\n\u001b[1;32m   2742\u001b[0m             \u001b[0;32mif\u001b[0m \u001b[0mname\u001b[0m \u001b[0;32min\u001b[0m \u001b[0mself\u001b[0m\u001b[0;34m.\u001b[0m\u001b[0m_info_axis\u001b[0m\u001b[0;34m:\u001b[0m\u001b[0;34m\u001b[0m\u001b[0m\n\u001b[1;32m   2743\u001b[0m                 \u001b[0;32mreturn\u001b[0m \u001b[0mself\u001b[0m\u001b[0;34m[\u001b[0m\u001b[0mname\u001b[0m\u001b[0;34m]\u001b[0m\u001b[0;34m\u001b[0m\u001b[0m\n\u001b[0;32m-> 2744\u001b[0;31m             \u001b[0;32mreturn\u001b[0m \u001b[0mobject\u001b[0m\u001b[0;34m.\u001b[0m\u001b[0m__getattribute__\u001b[0m\u001b[0;34m(\u001b[0m\u001b[0mself\u001b[0m\u001b[0;34m,\u001b[0m \u001b[0mname\u001b[0m\u001b[0;34m)\u001b[0m\u001b[0;34m\u001b[0m\u001b[0m\n\u001b[0m\u001b[1;32m   2745\u001b[0m \u001b[0;34m\u001b[0m\u001b[0m\n\u001b[1;32m   2746\u001b[0m     \u001b[0;32mdef\u001b[0m \u001b[0m__setattr__\u001b[0m\u001b[0;34m(\u001b[0m\u001b[0mself\u001b[0m\u001b[0;34m,\u001b[0m \u001b[0mname\u001b[0m\u001b[0;34m,\u001b[0m \u001b[0mvalue\u001b[0m\u001b[0;34m)\u001b[0m\u001b[0;34m:\u001b[0m\u001b[0;34m\u001b[0m\u001b[0m\n",
      "\u001b[0;31mAttributeError\u001b[0m: 'DataFrame' object has no attribute 'fio'"
     ]
    }
   ],
   "source": [
    "source = ColumnDataSource(data=dict(x=df.x, y=df.y, dots=df.fio))\n",
    "source2 = ColumnDataSource(data=dict(x=doc_coord.x, y=doc_coord.y, estimate=doc_coord.estimate, estimate1=doc_coord.estimate1))\n",
    "\n",
    "hover = HoverTool(tooltips=[\n",
    "    (\"x\",\"@x\"),\n",
    "    (\"y\", \"@y\"),\n",
    "    (\"fio\", \"@fio\"),\n",
    "    (\"id\", \"@id\")\n",
    "])\n",
    "\n",
    "TOOLS = \"pan, wheel_zoom, box_zoom, reset, save, box_select, crosshair\"\n",
    "\n",
    "output_notebook()\n",
    "p = figure(plot_height=600, plot_width=800, title=\"Расположение слов на плоскости\", tools=[hover, TOOLS])\n",
    "p.circle(df.x, df.y, source=source, size=10, line_color=\"navy\", fill_color=\"orange\", fill_alpha=0.5)\n",
    "show(p)"
   ]
  },
  {
   "cell_type": "code",
   "execution_count": null,
   "metadata": {
    "collapsed": true
   },
   "outputs": [],
   "source": []
  }
 ],
 "metadata": {
  "kernelspec": {
   "display_name": "py3",
   "language": "python",
   "name": "py3"
  },
  "language_info": {
   "codemirror_mode": {
    "name": "ipython",
    "version": 3
   },
   "file_extension": ".py",
   "mimetype": "text/x-python",
   "name": "python",
   "nbconvert_exporter": "python",
   "pygments_lexer": "ipython3",
   "version": "3.5.1"
  }
 },
 "nbformat": 4,
 "nbformat_minor": 0
}
